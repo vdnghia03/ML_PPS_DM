{
 "cells": [
  {
   "cell_type": "markdown",
   "metadata": {},
   "source": [
    "- MSSV: 22280060 \n",
    "- Ho Va Ten: Vo Duy Nghia \n",
    "- Ca 1"
   ]
  },
  {
   "cell_type": "markdown",
   "metadata": {},
   "source": [
    "# I. My Test"
   ]
  },
  {
   "cell_type": "code",
   "execution_count": 14,
   "metadata": {},
   "outputs": [
    {
     "name": "stdout",
     "output_type": "stream",
     "text": [
      "[[0, 0, 0, 0, 0], [0, 0, 0, 0, 0], [0, 0, 0, 0, 0], [0, 0, 0, 0, 0], [0, 0, 0, 0, 0], [0, 0, 0, 0, 0]]\n"
     ]
    }
   ],
   "source": [
    "# Một số công thức tạo mảng dùng python\n",
    "# Tạo mảng 2 chiều\n",
    "\n",
    "m = 5\n",
    "n = 4\n",
    "dp = [[0] * (n + 1) for _ in range(m + 1)]\n",
    "print(dp)"
   ]
  },
  {
   "cell_type": "code",
   "execution_count": 15,
   "metadata": {},
   "outputs": [],
   "source": [
    "# Tạo hàm edit_distance đơn giản theo công thức trên lớp\n",
    "\n",
    "def edit_distance(X,Y):\n",
    "    m, n = len(X), len(Y)\n",
    "\n",
    "    dp = [[0] * (n + 1) for _ in range(m + 1)]\n",
    "    for i in range(m + 1):\n",
    "        for j in range(n+1):\n",
    "            if i == 0:\n",
    "                dp[i][j] = j # Hang 0 là giá trị chạy từ 1 đến m\n",
    "            elif j == 0:\n",
    "                dp[i][j] = i # Cot 0 là giá trị chạy từ 1 đến n\n",
    "            elif X[i-1] == Y[j - 1]:\n",
    "                dp[i][j] = dp[i - 1][j - 1] \n",
    "            else:\n",
    "                dp[i][j] = 1 + min(dp[i][j - 1], # Insert\n",
    "                                   dp[i - 1][j], # Remove\n",
    "                                   dp[i - 1][j - 1])\n",
    "    \n",
    "    return dp[m][n]"
   ]
  },
  {
   "cell_type": "code",
   "execution_count": 3,
   "metadata": {},
   "outputs": [
    {
     "data": {
      "text/plain": [
       "2"
      ]
     },
     "execution_count": 3,
     "metadata": {},
     "output_type": "execute_result"
    }
   ],
   "source": [
    "edit_distance(\"MOVIE\", \"LOVE\")"
   ]
  },
  {
   "cell_type": "markdown",
   "metadata": {},
   "source": [
    "# II. Noi Dung Thuc Hanh"
   ]
  },
  {
   "cell_type": "markdown",
   "metadata": {},
   "source": [
    "### 1. Viet chuong trinh tinh khoang cac edit"
   ]
  },
  {
   "cell_type": "code",
   "execution_count": 1,
   "metadata": {},
   "outputs": [],
   "source": [
    "def find_minimum_edit_distance(source_string, target_string):\n",
    "    # Create a dp matrix of dimension (source_string + 1) x (destination matrix + 1)\n",
    "    dp = [[0] * (len(source_string) + 1) for i in range(len(target_string) + 1)]\n",
    "\n",
    "    # Initialize the required values of the matrix\n",
    "    for i in range(1, len(target_string) + 1):\n",
    "        dp[i][0] = dp[i - 1][0] + 1\n",
    "    for i in range(1, len(source_string) + 1):\n",
    "        dp[0][i] = dp[0][i - 1] + 1\n",
    "\n",
    "    # Maintain the record of operations done\n",
    "    # Record is one tuple. Eg : (INSERT, 'a') or (SUBSTITUTE, 'e', 'r') or (DELETE, 'j')\n",
    "    operations_performed = []\n",
    "\n",
    "    # Build the matrix following the algorithm\n",
    "    for i in range(1, len(target_string) + 1):\n",
    "        for j in range(1, len(source_string) + 1):\n",
    "            if source_string[j - 1] == target_string[i - 1]:\n",
    "                dp[i][j] = dp[i - 1][j - 1]\n",
    "            else:\n",
    "                dp[i][j] = min(dp[i - 1][j] + 1,\n",
    "                               dp[i][j - 1] + 1,\n",
    "                               dp[i - 1][j - 1] + 2)\n",
    "\n",
    "    # Initialization for backtracking\n",
    "    i = len(target_string)\n",
    "    j = len(source_string)\n",
    "\n",
    "    # Backtrack to record the operation performed\n",
    "    while (i != 0 and j != 0):\n",
    "        # If the character of the source string is equal to\n",
    "        # the character of the destination string,\n",
    "        # no operation is performed\n",
    "        if target_string[i - 1] == source_string[j - 1]:\n",
    "            i -= 1\n",
    "            j -= 1\n",
    "        else:\n",
    "            # Check if the current element is derived from the upper-left diagonal element\n",
    "            if dp[i][j] == dp[i - 1][j - 1] + 2:\n",
    "                operations_performed.append(('SUBSTITUTE', source_string[j - 1], target_string[i - 1]))\n",
    "                i -= 1\n",
    "                j -= 1\n",
    "            # Check if the current element is derived from the upper element\n",
    "            elif dp[i][j] == dp[i - 1][j] + 1:\n",
    "                operations_performed.append(('INSERT', target_string[i - 1]))\n",
    "                i -= 1\n",
    "            # Check if the current element is derived from the left element\n",
    "            else:\n",
    "                operations_performed.append(('DELETE', source_string[j - 1]))\n",
    "                j -= 1\n",
    "\n",
    "    # If we reach top-most row of the matrix\n",
    "    while (j != 0):\n",
    "        operations_performed.append(('DELETE', source_string[j - 1]))\n",
    "        j -= 1\n",
    "\n",
    "    # If we reach left-most column of the matrix\n",
    "    while (i != 0):\n",
    "        operations_performed.append(('INSERT', target_string[i - 1]))\n",
    "        i -= 1\n",
    "\n",
    "    # Reverse the list of operations performed as we have operations in reverse\n",
    "    # order because of backtracking\n",
    "    operations_performed.reverse()\n",
    "\n",
    "    return dp[len(target_string)][len(source_string)], operations_performed\n",
    "\n"
   ]
  },
  {
   "cell_type": "code",
   "execution_count": 16,
   "metadata": {},
   "outputs": [
    {
     "name": "stdout",
     "output_type": "stream",
     "text": [
      "Minimum edit distance : 3.\n",
      "Number of insertions : 1.\n",
      "Number of deletions : 0.\n",
      "Number of substitutions : 1.\n",
      "Total number of operations : 2.\n",
      "Actual Operations :\n",
      "(1) SUBSTITUTE : L by M\n",
      "(2) INSERT : I\n"
     ]
    }
   ],
   "source": [
    "if __name__ == \"__main__\":\n",
    "    # Get the source and target string\n",
    "    # print(\"Enter the source string :\")\n",
    "    source_string = \"LOVE\" # input().strip()\n",
    "    # print(\"Enter the target string :\")\n",
    "    target_string =  \"MOVIE\"# input().strip()\n",
    "\n",
    "    # Find the minimum edit distance and the operation performed\n",
    "    distance, operations_performed = find_minimum_edit_distance(source_string, target_string)\n",
    "\n",
    "    # Count the number of individual operations\n",
    "    insertions, deletions, substitutions = 0, 0, 0\n",
    "    for i in operations_performed:\n",
    "        if i[0] == 'INSERT':\n",
    "            insertions += 1\n",
    "        elif i[0] == 'DELETE':\n",
    "            deletions += 1\n",
    "        else:\n",
    "            substitutions += 1\n",
    "\n",
    "    # Print the results\n",
    "    print(\"Minimum edit distance : {}.\".format(distance))\n",
    "    print(\"Number of insertions : {}.\".format(insertions))\n",
    "    print(\"Number of deletions : {}.\".format(deletions))\n",
    "    print(\"Number of substitutions : {}.\".format(substitutions))\n",
    "    print(\"Total number of operations : {}.\".format(insertions + substitutions))\n",
    "\n",
    "    print(\"Actual Operations :\")\n",
    "    for i in range(len(operations_performed)):\n",
    "        if operations_performed[i][0] == 'INSERT':\n",
    "            print(\"({}) {} : {}\".format(i + 1, operations_performed[i][0], operations_performed[i][1]))\n",
    "        elif operations_performed[i][0] == 'DELETE':\n",
    "            print(\"({}) {} : {}\".format(i + 1, operations_performed[i][0], operations_performed[i][1]))\n",
    "        else:\n",
    "            print(\"({}) {} : {} by {}\".format(i + 1, operations_performed[i][0], operations_performed[i][1], operations_performed[i][2]))"
   ]
  },
  {
   "cell_type": "markdown",
   "metadata": {},
   "source": [
    "## 2. Viet chuong trinh tinh khoang cac day con chung dai nha"
   ]
  },
  {
   "cell_type": "markdown",
   "metadata": {},
   "source": [
    "**Bước 1: Khởi tạo**\n",
    "- Nhập vào 2 chuỗi s1 và s2.\n",
    "- Tính độ dài m = len(s1), n = len(s2).\n",
    "- Tạo ma trận dp có kích thước (m+1) x (n+1), khởi tạo tất cả phần tử bằng 0.\n",
    "\n",
    "**Bước 2: Duyệt từng ký tự**\n",
    "- Duyệt i từ 1 đến m:\n",
    "    - Duyệt j từ 1 đến n:\n",
    "\n",
    "**Bước 3: So sánh và cập nhật**\n",
    "- Nếu s1[i-1] == s2[j-1]:\n",
    "    - dp[i][j] = dp[i-1][j-1] + 1\n",
    "- Ngược lại:\n",
    "    - dp[i][j] = max(dp[i-1][j], dp[i][j-1])\n",
    "\n",
    "**Bước 4: Kết quả**\n",
    "- Độ dài dãy con chung dài nhất là dp[m][n]\n",
    "\n"
   ]
  },
  {
   "cell_type": "code",
   "execution_count": 17,
   "metadata": {},
   "outputs": [
    {
     "name": "stdout",
     "output_type": "stream",
     "text": [
      "The length of the Longest Common Subsequence between 'ABCD' and 'CBDA' is: 2\n"
     ]
    }
   ],
   "source": [
    "def longest_common_subsequence(s1, s2):\n",
    "    \"\"\"\n",
    "    Calculates the length of the Longest Common Subsequence (LCSS) of two strings using dynamic programming.\n",
    "\n",
    "    Args:\n",
    "        s1 (str): The first string.\n",
    "        s2 (str): The second string.\n",
    "\n",
    "    Returns:\n",
    "        int: The length of the LCSS of s1 and s2.\n",
    "    \"\"\"\n",
    "    m = len(s1)\n",
    "    n = len(s2)\n",
    "\n",
    "    dp = [[0] * (n + 1) for _ in range(m + 1)]\n",
    "\n",
    "    # Fill the dp table in bottom-up manner\n",
    "    for i in range(1, m + 1):\n",
    "        for j in range(1, n + 1):\n",
    "            if s1[i - 1] == s2[j - 1]:\n",
    "                dp[i][j] = dp[i - 1][j - 1] + 1\n",
    "            else:\n",
    "                dp[i][j] = max(dp[i - 1][j], dp[i][j - 1])\n",
    "\n",
    "    # The length of LCSS of s1 and s2 is dp[m][n]\n",
    "    return dp[m][n]\n",
    "\n",
    "# Example usage:\n",
    "string1 = \"ABCD\"\n",
    "string2 = \"CBDA\"\n",
    "lcss_length = longest_common_subsequence(string1, string2)\n",
    "print(f\"The length of the Longest Common Subsequence between '{string1}' and '{string2}' is: {lcss_length}\")\n",
    "\n"
   ]
  },
  {
   "cell_type": "markdown",
   "metadata": {},
   "source": [
    "## 3. Viet chuong trinh tinh khoang cach bien doi thoi gian dong"
   ]
  },
  {
   "cell_type": "markdown",
   "metadata": {},
   "source": [
    "**Bước 1: Nhập vào**\n",
    "- Nhận 2 chuỗi số: s1 và s2\n",
    "\n",
    "**Bước 2: Tạo ma trận**\n",
    "- Tạo ma trận `distance_matrix` kích thước (len(s1)+1) x (len(s2)+1)\n",
    "- Gán tất cả giá trị là ∞ (vô cùng)\n",
    "- Gán `distance_matrix[0][0] = 0`\n",
    "\n",
    "**Bước 3: Duyệt từng phần tử trong ma trận**\n",
    "- Duyệt i từ 1 đến len(s1)\n",
    "    - Duyệt j từ 1 đến len(s2)\n",
    "        - Tính `cost = abs(s1[i-1] - s2[j-1])`\n",
    "        - Cập nhật:\n",
    "          ```\n",
    "          distance_matrix[i][j] = cost + min(\n",
    "              distance_matrix[i-1][j],    # Xóa\n",
    "              distance_matrix[i][j-1],    # Chèn\n",
    "              distance_matrix[i-1][j-1]   # Thay thế / khớp\n",
    "          )\n",
    "          ```\n",
    "\n",
    "**Bước 4: Kết quả**\n",
    "- Khoảng cách DTW chính là: `distance_matrix[len(s1)][len(s2)]`\n"
   ]
  },
  {
   "cell_type": "code",
   "execution_count": 18,
   "metadata": {},
   "outputs": [
    {
     "name": "stdout",
     "output_type": "stream",
     "text": [
      "The DTW distance between [1, 7, 4, 8, 2, 9, 6, 5, 2, 0] and [1, 2, 8, 5, 5, 1, 9, 4, 6, 5] is: 17.0\n"
     ]
    }
   ],
   "source": [
    "import numpy as np\n",
    "\n",
    "def dynamic_time_warping(s1, s2):\n",
    "    \"\"\"\n",
    "    Calculates the Dynamic Time Warping (DTW) distance between two sequences.\n",
    "\n",
    "    Args:\n",
    "        s1 (list or tuple): The first sequence.\n",
    "        s2 (list or tuple): The second sequence.\n",
    "\n",
    "    Returns:\n",
    "        float: The DTW distance between s1 and s2.\n",
    "    \"\"\"\n",
    "    n = len(s1)\n",
    "    m = len(s2)\n",
    "\n",
    "    # Initialize a distance matrix with infinity\n",
    "    distance_matrix = np.full((n + 1, m + 1), np.inf)\n",
    "    distance_matrix[0, 0] = 0\n",
    "\n",
    "    # Fill the distance matrix\n",
    "    for i in range(1, n + 1):\n",
    "        for j in range(1, m + 1):\n",
    "            cost = abs(s1[i - 1] - s2[j - 1])  # You can define a different cost function here\n",
    "            distance_matrix[i, j] = cost + min(distance_matrix[i - 1, j],     # Deletion\n",
    "                                               distance_matrix[i, j - 1],     # Insertion\n",
    "                                               distance_matrix[i - 1, j - 1]) # Match or Substitution\n",
    "\n",
    "    return distance_matrix[n, m]\n",
    "\n",
    "# Example Usage:\n",
    "sequence1 = [1,7,4,8,2,9,6,5,2,0]\n",
    "sequence2 = [1,2,8,5,5,1,9,4,6,5]  # <-- hoặc sửa tùy mục đích\n",
    "dtw_distance = dynamic_time_warping(sequence1, sequence2)\n",
    "print(f\"The DTW distance between {sequence1} and {sequence2} is: {dtw_distance}\")\n"
   ]
  },
  {
   "cell_type": "code",
   "execution_count": null,
   "metadata": {},
   "outputs": [],
   "source": []
  }
 ],
 "metadata": {
  "kernelspec": {
   "display_name": "base",
   "language": "python",
   "name": "python3"
  },
  "language_info": {
   "codemirror_mode": {
    "name": "ipython",
    "version": 3
   },
   "file_extension": ".py",
   "mimetype": "text/x-python",
   "name": "python",
   "nbconvert_exporter": "python",
   "pygments_lexer": "ipython3",
   "version": "3.9.13"
  }
 },
 "nbformat": 4,
 "nbformat_minor": 2
}
